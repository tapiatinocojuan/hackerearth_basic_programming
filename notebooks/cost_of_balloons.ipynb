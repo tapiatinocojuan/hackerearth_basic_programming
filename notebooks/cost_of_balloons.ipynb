{
 "cells": [
  {
   "cell_type": "markdown",
   "metadata": {},
   "source": [
    "# Cost of balloons\n",
    "\n",
    "You are conducting a contest at your college. This contest consists of two problems and  participants. You know the problem that a candidate will solve during the contest.\n",
    "\n",
    "You provide a balloon to a participant after he or she solves a problem. There are only green and purple-colored balloons available in a market. Each problem must have a balloon associated with it as a prize for solving that specific problem. You can distribute balloons to each participant by performing the following operation:\n",
    "\n",
    " 1. Use green-colored balloons for the first problem and purple-colored balloons for the second problem\n",
    " 2. Use purple-colored balloons for the first problem and green-colored balloons for the second problem\n",
    "\n",
    "You are given the cost of each balloon and problems that each participant solve. Your task is to print the minimum price that you have to pay while purchasing balloons.\n",
    "\n",
    "**Input format**\n",
    "\n",
    " * First line: $T$ that denotes the number of test cases ($1 \\leq T \\leq 10$)\n",
    " * For each test case: \n",
    "   * First line: Cost of green and purple-colored balloons \n",
    " * Second line: $n$ that denotes the number of participants ($1 \\leq n \\leq 10$)\n",
    " * Next $n$ lines: Contain the status of users. For example, if the value of the $j^{th}$ integer in the $i^{th}$ row is $0$, then it depicts that the $i^{th}$ participant has not solved the $j^{th}$ problem. Similarly, if the value of the $j^{th}$ integer in the $i^{th}$ row is $1$, then it depicts that the  participant has solved the  problem.\n",
    "\n",
    "**Output format**\n",
    "\n",
    "For each test case, print the minimum cost that you have to pay to purchase balloons.\n",
    "\n",
    "## Solution\n",
    "\n",
    "In order to use the code as it is in hackerearth, I rewrote de input funcion and provided the same sample input to the code with the function sys.stdin."
   ]
  },
  {
   "cell_type": "code",
   "execution_count": 19,
   "metadata": {},
   "outputs": [],
   "source": [
    "import sys\n",
    "def input():\n",
    "    \"\"\"Rewrites the input function.\n",
    "    \n",
    "    I can use the original hackerearth code with this change.\n",
    "    \"\"\"\n",
    "    return sys.stdin.readline().replace(\"\\n\", \"\")"
   ]
  },
  {
   "cell_type": "markdown",
   "metadata": {},
   "source": [
    "**Sample Input**"
   ]
  },
  {
   "cell_type": "code",
   "execution_count": 20,
   "metadata": {},
   "outputs": [],
   "source": [
    "import io\n",
    "sys.stdin = io.StringIO((\n",
    "\"2\\n\"\n",
    "\"9 6\\n\"\n",
    "\"10\\n\"\n",
    "\"1 1\\n\"\n",
    "\"1 1\\n\"\n",
    "\"0 1\\n\"\n",
    "\"0 0\\n\"\n",
    "\"0 1\\n\"\n",
    "\"0 0\\n\"\n",
    "\"0 1\\n\"\n",
    "\"0 1\\n\"\n",
    "\"1 1\\n\"\n",
    "\"0 0\\n\"\n",
    "\"1 9\\n\"\n",
    "\"10\\n\"\n",
    "\"0 1\\n\"\n",
    "\"0 0\\n\"\n",
    "\"0 0\\n\"\n",
    "\"0 1\\n\"\n",
    "\"1 0\\n\"\n",
    "\"0 1\\n\"\n",
    "\"0 1\\n\"\n",
    "\"0 0\\n\"\n",
    "\"0 1\\n\"\n",
    "\"0 0\\n\"\n",
    ")) "
   ]
  },
  {
   "cell_type": "markdown",
   "metadata": {},
   "source": [
    "**The code**"
   ]
  },
  {
   "cell_type": "code",
   "execution_count": 21,
   "metadata": {},
   "outputs": [
    {
     "name": "stdout",
     "output_type": "stream",
     "text": [
      "69\n",
      "14\n"
     ]
    }
   ],
   "source": [
    "import sys\n",
    "for num_case in range(int(input())):\n",
    "    green_balloon_cost, purple_balloon_cost = (int(x) for x in input().split(\" \"))\n",
    "    num_balloons_opt1 = 0\n",
    "    num_balloons_opt2 = 0\n",
    "    for num_participant in range(int(input())):\n",
    "        st1, st2 = (int(x) for x in input().split(\" \"))\n",
    "        num_balloons_opt1 += st1\n",
    "        num_balloons_opt2 += st2\n",
    "    #We get the minimum price if we buy the max number of cheaper ballons and the rest\n",
    "    #of expensive ballons.\n",
    "    print (\n",
    "        max((green_balloon_cost, purple_balloon_cost))* min((num_balloons_opt1, num_balloons_opt2)) + \n",
    "        min((green_balloon_cost, purple_balloon_cost))* max((num_balloons_opt1, num_balloons_opt2))\n",
    "    )"
   ]
  }
 ],
 "metadata": {
  "kernelspec": {
   "display_name": "Python 3",
   "language": "python",
   "name": "python3"
  },
  "language_info": {
   "codemirror_mode": {
    "name": "ipython",
    "version": 3
   },
   "file_extension": ".py",
   "mimetype": "text/x-python",
   "name": "python",
   "nbconvert_exporter": "python",
   "pygments_lexer": "ipython3",
   "version": "3.8.4"
  }
 },
 "nbformat": 4,
 "nbformat_minor": 4
}
