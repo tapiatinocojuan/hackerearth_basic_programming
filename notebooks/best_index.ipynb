{
 "cells": [
  {
   "cell_type": "markdown",
   "metadata": {},
   "source": [
    "# Best Index\n",
    "\n",
    "You are given an array $A$ of $N$ elements. Now you need to choose the best index of this array $A$. An index of the array is called best if the special sum of this index is maximum across the special sum of all the other indices.\n",
    "\n",
    "To calculate the special sum for any index $i$, you pick the first element that is $A[i]$ and add it to your sum. Now you pick next two elements i.e. $A[i+1]$ and $A[i+2]$ and add both of them to your sum. Now you will pick the next $3$ elements and this continues till the index for which it is possible to pick the elements. For example:\n",
    "\n",
    "If our array contains $10$ elements and you choose index to be $3$ then your special sum is denoted by -\n",
    "$(A[3]) + (A[4] + A[5]) + (A[6] + A[7] A[8])$, beyond this its not possible to add further elements as the index value will cross the value $10$.\n",
    "\n",
    "Find the best index and in the output print its corresponding special sum. Note that there may be more than one best indices but you need to only print the maximum special sum.\n",
    "\n",
    "**Input**\n",
    "\n",
    "First line contains an integer $N$ as input. Next line contains $N$ space separated integers denoting the elements of the array $A$.\n",
    "\n",
    "**Output**\n",
    "\n",
    "In the output you have to print an integer that denotes the maximum special sum\n",
    "\n",
    "Constraints\n",
    "\n",
    "$(1 \\leq N \\leq 10^{5})$\n",
    "$(-10^7 \\leq A[i] \\leq 10^{7})$\n",
    "\n",
    "## Solution\n",
    "\n",
    "In order to use the code as it is in hackerearth, I rewrote de input funcion and provided the same sample input to the code with the function sys.stdin."
   ]
  },
  {
   "cell_type": "code",
   "execution_count": 1,
   "metadata": {},
   "outputs": [],
   "source": [
    "import sys\n",
    "def input():\n",
    "    \"\"\"Rewrites the input function.\n",
    "    \n",
    "    I can use the original hackerearth code with this change.\n",
    "    \"\"\"\n",
    "    return sys.stdin.readline().replace(\"\\n\", \"\")"
   ]
  },
  {
   "cell_type": "markdown",
   "metadata": {},
   "source": [
    "**Sample input**"
   ]
  },
  {
   "cell_type": "code",
   "execution_count": 2,
   "metadata": {},
   "outputs": [],
   "source": [
    "import io\n",
    "sys.stdin = io.StringIO((\n",
    "\"5\\n\"\n",
    "\"1 3 1 2 5\\n\")) "
   ]
  },
  {
   "cell_type": "markdown",
   "metadata": {},
   "source": [
    "**The code**\n",
    "\n",
    "This problem has a tricky solution, I tried to solved it by brute force but the amount of operations (sums) was huge and caused the solution failed by exceding the time limit. The second thing I tried was find a method to reduce the number of sums to calculate a especial sum. I read the array $A$ but I created a second arrray called **sums**, the first element of sum is always $0$, after that number the next are calculated with the next formula $$sums[i] = sums[i-1] + A[i-1]$$\n",
    "\n",
    "For our sample input we have $$A = [1, 3, 1, 2, 5]$$ $$sums = [0, 1, 4, 5, 7, 12]$$\n",
    "\n",
    "We can calculate sums of sub parts of the array A in a simple way. For example, to calculate the sum of all the elements in the $A$ array, instead of doing $A[0] + A[1] + A[2] + A[3] + A[4]$ we just get the first and the last indixes, thats it, fist_index = $0$ and last_index = $4$ and do the next operation $sums[last\\_index + 1] - sums[first\\_index]$.\n",
    "\n",
    "Let's do some exercises:\n",
    "\n",
    " * The sum of all elements of $A$\n",
    " \n",
    "     $A[0] + A[1] + A[2] + A[3] + A[4] ?= sums[5] - sums[0]$\n",
    "     \n",
    "     $1 + 3 + 1 + 2 + 5  ?= 12 - 0$\n",
    "     \n",
    "     $12 ?= 12$\n",
    "     \n",
    "     Correct!\n",
    "  \n",
    " * The sum of the last three elements of $A$\n",
    " \n",
    "     $A[2] + A[3] + A[4] ?= sums[5] - sums[2]$\n",
    "     \n",
    "     $1 + 2 + 5 ?= 12 - 4$\n",
    "     \n",
    "     $8 ?= 8$\n",
    "     \n",
    "     Correct again!\n",
    "    \n",
    "In a more general way\n",
    "\n",
    "$$\\sum_{i = first\\_index}^{last\\_index}A[i]\\; ?= sums[last\\_index + 1] - sums[first\\_index]$$\n",
    "\n",
    "every number in sums with exception on $sums[0] = 0$ is equals to $$sums[i] = \\sum_{j=0}^{i-1}A[j]$$ so \n",
    "$$\\sum_{i = first\\_index}^{last\\_index}A[i] \\;?=  \\sum_{j=0}^{last\\_index + 1-1}A[j] - \\sum_{j=0}^{first\\_index -1}A[j] \\; with\\; first\\_index\\; \\neq 0$$\n",
    "\n",
    "where \n",
    "\n",
    "$$\\sum_{i = first\\_index}^{last\\_index}A[i] = A[firts\\_index] + A[firts\\_index+1] + A[firts\\_index + 2] + \\cdot \\cdot \\cdot + A[last\\_index - 1] + A[last\\_index],$$\n",
    "\n",
    "$$\\sum_{j=0}^{last\\_index}A[j] = A[0] + A[1] + A[2] + \\cdot \\cdot \\cdot + A[first\\_index -2] + A[first\\_index -1] + A[first\\_index] + A[first\\_index + 1] + A[first\\_index + 2] + \\cdot \\cdot \\cdot + A[last\\_index - 1] + A[last\\_index],$$\n",
    "\n",
    "and \n",
    "$$\\sum_{j=0}^{first\\_index -1}A[j] =  A[0] + A[1] + A[2] + \\cdot \\cdot \\cdot + A[first\\_index-2] + A[first\\_index-1]$$\n",
    "\n",
    "finally doing the subtraction in the second part of the equation we cancel all the terms between $A[0]$ to $A[fist\\_index -1]$ and we get\n",
    "\n",
    "$$\\sum_{i = first\\_index}^{last\\_index}A[i]\\; ?= A[firts\\_index] + A[firts\\_index+1] + A[firts\\_index + 2] + \\cdot \\cdot \\cdot + A[last\\_index - 1] + A[last\\_index]$$\n",
    "\n",
    "We have now a method to calculate in an aesy way the sums of a sub part of the A array, but we  have another problem, we have to find what sub part of A array we are going to take to calculate the special sum for every index. The max amount of numbers used for the calculation is get when the index is $0$, this accours because with index $0$ we have the bigest amount of availible numbers. Once we move to the nex item the amount of availble numbers is going to decrese by 1 number. the amount of numbers used in the summation is obtined with a very well know equation $$num\\_elements = \\sum_{i=0}^ni=\\frac{n(n+1)}{2}$$ we can obtain the number n for every index $first\\_index$ as \n",
    "$$n^2 + n - 2(len(A) - first\\_index) = 0$$\n",
    "using the quadratic formula\n",
    "$$n = \\frac{-1 \\pm \\sqrt{1-8(len(A) - first\\_index)}}{2}$$\n",
    "using only the integer part of n we obtain the last_index for the sumation as $$last\\_index = fist\\_index + \\frac{n(n+1)}{2} -1$$\n",
    "\n",
    "Doing this operation for all indexes will reduce the amount of time to find the last_index, however I think that it's only necesary for the index $0$ then we just have to get record of the avaiblable number remaining and doing some subtraction when the num_elements were bigger than the avaible numbers remaining.  \n"
   ]
  },
  {
   "cell_type": "code",
   "execution_count": 3,
   "metadata": {},
   "outputs": [
    {
     "name": "stdout",
     "output_type": "stream",
     "text": [
      "8\n"
     ]
    }
   ],
   "source": [
    "from math import sqrt\n",
    "num_numbers = int(input())\n",
    "\n",
    "sums = [0]\n",
    "aux = 0\n",
    "aux2 = -100000000000\n",
    "\n",
    "for number in input().split(\" \"):\n",
    "    try:\n",
    "        aux += int(number)\n",
    "        sums.append(aux)\n",
    "    except:\n",
    "        pass\n",
    "    \n",
    "n = int(sqrt(1 + 8*num_numbers)/2 -0.5) \n",
    "num_elements = int(n*(n+1)/2)\n",
    "\n",
    "for first_index in range(num_numbers):\n",
    "    last_index = first_index + num_elements\n",
    "    if last_index > num_numbers:\n",
    "        last_index -= n\n",
    "        num_elements -= n\n",
    "        n -= 1\n",
    "        \n",
    "    especial_sum = sums[last_index] - sums[first_index]\n",
    "\n",
    "    if especial_sum > aux2:\n",
    "        aux2 = especial_sum\n",
    "    \n",
    "print (int(aux2))\n"
   ]
  }
 ],
 "metadata": {
  "kernelspec": {
   "display_name": "Python 3",
   "language": "python",
   "name": "python3"
  },
  "language_info": {
   "codemirror_mode": {
    "name": "ipython",
    "version": 3
   },
   "file_extension": ".py",
   "mimetype": "text/x-python",
   "name": "python",
   "nbconvert_exporter": "python",
   "pygments_lexer": "ipython3",
   "version": "3.8.4"
  }
 },
 "nbformat": 4,
 "nbformat_minor": 4
}
